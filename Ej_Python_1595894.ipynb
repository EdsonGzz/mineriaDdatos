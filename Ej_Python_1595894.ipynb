{
 "cells": [
  {
   "cell_type": "code",
   "execution_count": 7,
   "metadata": {},
   "outputs": [
    {
     "name": "stdout",
     "output_type": "stream",
     "text": [
      "1595894 Edson Ali Gonzalez Campos\n"
     ]
    }
   ],
   "source": [
    "#Ejercicio 1:\n",
    "#Realiza una variable con tu matricula y realiza una secuencia de imprimir con tu nombre y tu matricula concatenados.\n",
    "\n",
    "\n",
    "nombre = \" Edson Ali Gonzalez Campos\"\n",
    "matricula = 1595894\n",
    "\n",
    "\n",
    "Matricula_Nombre = str(matricula) + nombre\n",
    "\n",
    "print(Matricula_Nombre)\n"
   ]
  },
  {
   "cell_type": "code",
   "execution_count": 8,
   "metadata": {},
   "outputs": [
    {
     "name": "stdout",
     "output_type": "stream",
     "text": [
      "Introduce un numero: 5\n",
      "Introduce un numero: 2\n",
      "7.0 3.0 -3.0 10.0 2.5 0.4 1.0 2.0 25.0 32.0\n"
     ]
    },
    {
     "ename": "KeyboardInterrupt",
     "evalue": "Interrupted by user",
     "output_type": "error",
     "traceback": [
      "\u001b[1;31m---------------------------------------------------------------------------\u001b[0m",
      "\u001b[1;31mKeyboardInterrupt\u001b[0m                         Traceback (most recent call last)",
      "\u001b[1;32m<ipython-input-8-798d229521d2>\u001b[0m in \u001b[0;36m<module>\u001b[1;34m\u001b[0m\n\u001b[0;32m      5\u001b[0m \u001b[0mi\u001b[0m\u001b[1;33m=\u001b[0m\u001b[1;36m1\u001b[0m\u001b[1;33m\u001b[0m\u001b[1;33m\u001b[0m\u001b[0m\n\u001b[0;32m      6\u001b[0m \u001b[1;32mwhile\u001b[0m \u001b[0mi\u001b[0m \u001b[1;33m<=\u001b[0m \u001b[1;36m10\u001b[0m\u001b[1;33m:\u001b[0m\u001b[1;33m\u001b[0m\u001b[1;33m\u001b[0m\u001b[0m\n\u001b[1;32m----> 7\u001b[1;33m     \u001b[0ma\u001b[0m \u001b[1;33m=\u001b[0m \u001b[0mfloat\u001b[0m\u001b[1;33m(\u001b[0m\u001b[0minput\u001b[0m\u001b[1;33m(\u001b[0m\u001b[1;34m\"Introduce un numero: \"\u001b[0m\u001b[1;33m)\u001b[0m\u001b[1;33m)\u001b[0m\u001b[1;33m\u001b[0m\u001b[1;33m\u001b[0m\u001b[0m\n\u001b[0m\u001b[0;32m      8\u001b[0m     \u001b[0mb\u001b[0m \u001b[1;33m=\u001b[0m \u001b[0mfloat\u001b[0m\u001b[1;33m(\u001b[0m\u001b[0minput\u001b[0m\u001b[1;33m(\u001b[0m\u001b[1;34m\"Introduce un numero: \"\u001b[0m\u001b[1;33m)\u001b[0m\u001b[1;33m)\u001b[0m\u001b[1;33m\u001b[0m\u001b[1;33m\u001b[0m\u001b[0m\n\u001b[0;32m      9\u001b[0m \u001b[1;33m\u001b[0m\u001b[0m\n",
      "\u001b[1;32m~\\anaconda3\\lib\\site-packages\\ipykernel\\kernelbase.py\u001b[0m in \u001b[0;36mraw_input\u001b[1;34m(self, prompt)\u001b[0m\n\u001b[0;32m    858\u001b[0m                 \u001b[1;34m\"raw_input was called, but this frontend does not support input requests.\"\u001b[0m\u001b[1;33m\u001b[0m\u001b[1;33m\u001b[0m\u001b[0m\n\u001b[0;32m    859\u001b[0m             )\n\u001b[1;32m--> 860\u001b[1;33m         return self._input_request(str(prompt),\n\u001b[0m\u001b[0;32m    861\u001b[0m             \u001b[0mself\u001b[0m\u001b[1;33m.\u001b[0m\u001b[0m_parent_ident\u001b[0m\u001b[1;33m,\u001b[0m\u001b[1;33m\u001b[0m\u001b[1;33m\u001b[0m\u001b[0m\n\u001b[0;32m    862\u001b[0m             \u001b[0mself\u001b[0m\u001b[1;33m.\u001b[0m\u001b[0m_parent_header\u001b[0m\u001b[1;33m,\u001b[0m\u001b[1;33m\u001b[0m\u001b[1;33m\u001b[0m\u001b[0m\n",
      "\u001b[1;32m~\\anaconda3\\lib\\site-packages\\ipykernel\\kernelbase.py\u001b[0m in \u001b[0;36m_input_request\u001b[1;34m(self, prompt, ident, parent, password)\u001b[0m\n\u001b[0;32m    902\u001b[0m             \u001b[1;32mexcept\u001b[0m \u001b[0mKeyboardInterrupt\u001b[0m\u001b[1;33m:\u001b[0m\u001b[1;33m\u001b[0m\u001b[1;33m\u001b[0m\u001b[0m\n\u001b[0;32m    903\u001b[0m                 \u001b[1;31m# re-raise KeyboardInterrupt, to truncate traceback\u001b[0m\u001b[1;33m\u001b[0m\u001b[1;33m\u001b[0m\u001b[1;33m\u001b[0m\u001b[0m\n\u001b[1;32m--> 904\u001b[1;33m                 \u001b[1;32mraise\u001b[0m \u001b[0mKeyboardInterrupt\u001b[0m\u001b[1;33m(\u001b[0m\u001b[1;34m\"Interrupted by user\"\u001b[0m\u001b[1;33m)\u001b[0m \u001b[1;32mfrom\u001b[0m \u001b[1;32mNone\u001b[0m\u001b[1;33m\u001b[0m\u001b[1;33m\u001b[0m\u001b[0m\n\u001b[0m\u001b[0;32m    905\u001b[0m             \u001b[1;32mexcept\u001b[0m \u001b[0mException\u001b[0m \u001b[1;32mas\u001b[0m \u001b[0me\u001b[0m\u001b[1;33m:\u001b[0m\u001b[1;33m\u001b[0m\u001b[1;33m\u001b[0m\u001b[0m\n\u001b[0;32m    906\u001b[0m                 \u001b[0mself\u001b[0m\u001b[1;33m.\u001b[0m\u001b[0mlog\u001b[0m\u001b[1;33m.\u001b[0m\u001b[0mwarning\u001b[0m\u001b[1;33m(\u001b[0m\u001b[1;34m\"Invalid Message:\"\u001b[0m\u001b[1;33m,\u001b[0m \u001b[0mexc_info\u001b[0m\u001b[1;33m=\u001b[0m\u001b[1;32mTrue\u001b[0m\u001b[1;33m)\u001b[0m\u001b[1;33m\u001b[0m\u001b[1;33m\u001b[0m\u001b[0m\n",
      "\u001b[1;31mKeyboardInterrupt\u001b[0m: Interrupted by user"
     ]
    }
   ],
   "source": [
    "#Ejercicio 2:\n",
    "#Pidiendo el input del usuario pide dos números y crea una pequeña calculadora con los operadores básicos de suma, resta, multiplicación, división, y exponente.\n",
    "#Utilizando el loop de while\n",
    "\n",
    "i=1\n",
    "while i <= 10:\n",
    "    a = float(input(\"Introduce un numero: \"))\n",
    "    b = float(input(\"Introduce un numero: \"))\n",
    "\n",
    "    suma = a + b \n",
    "    resta1 = a - b\n",
    "    resta2 = b - a\n",
    "    multi = a*b\n",
    "    divi1 = a/b\n",
    "    divi2 = b/a\n",
    "    mod1 = a%b\n",
    "    mod2 = b%a\n",
    "    pote1 = a**b\n",
    "    pote2 = b**a\n",
    "    \n",
    "    print(suma, resta1, resta2, multi, divi1, divi2, mod1, mod2, pote1, pote2)\n",
    "    i=i+1\n",
    "    \n",
    "break"
   ]
  },
  {
   "cell_type": "code",
   "execution_count": 14,
   "metadata": {},
   "outputs": [
    {
     "name": "stdout",
     "output_type": "stream",
     "text": [
      "Dame un numero: 1\n",
      "Dame un numero: 2\n",
      "Dame un numero: 3\n",
      "Dame un numero: 4\n",
      "Dame un numero: 5\n",
      "Dame un numero: 6\n",
      "Dame un numero: 7\n",
      "Dame un numero: 8\n",
      "Dame un numero: 9\n",
      "Dame un numero: 10\n",
      "[3, 6, 9, 12, 15, 18, 21, 24, 27, 30]\n",
      "165\n"
     ]
    }
   ],
   "source": [
    "#Ejercicio 3:\n",
    "#Con loop while o for, realiza una lista de 10 numeros multiplos de 3, y después realiza una función de loop que sume todos los números dentro del arreglo.\n",
    "acumulador = 0 \n",
    "listaNumeros = []\n",
    "for ciclo in range(0,10):\n",
    "    multitres =int(input(\"Dame un numero: \"))\n",
    "    listaNumeros.append(multitres * 3)\n",
    "print(listaNumeros)\n",
    "for numero in listaNumeros:\n",
    "    acumulador += numero\n",
    "    \n",
    "print(acumulador)\n",
    "    \n"
   ]
  },
  {
   "cell_type": "code",
   "execution_count": 20,
   "metadata": {},
   "outputs": [
    {
     "name": "stdout",
     "output_type": "stream",
     "text": [
      "Ingrese un numero: 4\n",
      "El numero es par\n"
     ]
    }
   ],
   "source": [
    "#Ejercicio 4\n",
    "#Con una función de if else, revisar si un número es par o es impar.\n",
    "#Con una función de if else, revisar si un número es primo o no.\n",
    "\n",
    "num = int(input(\"Ingrese un numero: \"))\n",
    "mod = num%2\n",
    "if mod != 0:\n",
    "    print(\"El numero es impar\")\n",
    "    \n",
    "else:\n",
    "    print(\"El numero es par\")\n"
   ]
  },
  {
   "cell_type": "code",
   "execution_count": 22,
   "metadata": {},
   "outputs": [
    {
     "name": "stdout",
     "output_type": "stream",
     "text": [
      "Ingrese un numero para la exponencial: 0\n",
      "Ingrese un numero para el log: 10\n",
      "Ingrese un numero para log10: 10\n",
      "Ingrese un numero para las trigonometricas: 60\n",
      "Ingrese un numero entero para sacarle raiz: 9\n",
      "Ingrese el valor flotante para el valor techo: 95.25\n",
      "Ingrese el valor flotante para el valor piso: 95.25\n",
      "Función exponencial -->  1.0\n",
      "Log -->  3.3219280948873626\n",
      "Log  -->  1.0\n",
      "Log 10 -->  1.0\n",
      "Coseno -->  -0.9524129804151563\n",
      "Seno -->  -0.3048106211022167\n",
      "Tangente -->  0.320040389379563\n",
      "Raiz cuadrada -->  3.0\n",
      "Valor techo -->  96\n",
      "Valor piso -->  95\n"
     ]
    }
   ],
   "source": [
    "#Ejercicio 5\n",
    "#Utilizando diferentes clases en python, crea una calculadora con los operadores básicos de suma, resta, multiplicación, división, y exponente.\n",
    "\n",
    "import math as m\n",
    "\n",
    "e = float(input(\"Ingrese un numero para la exponencial: \"))\n",
    "n = float(input(\"Ingrese un numero para el log: \"))\n",
    "ndiez = float(input(\"Ingrese un numero para log10: \"))\n",
    "teta = float(input(\"Ingrese un numero para las trigonometricas: \"))\n",
    "raiz = int(input(\"Ingrese un numero entero para sacarle raiz: \"))\n",
    "vt = float(input(\"Ingrese el valor flotante para el valor techo: \"))\n",
    "vp = float(input(\"Ingrese el valor flotante para el valor piso: \"))\n",
    "\n",
    "print (\"Función exponencial --> \", m.exp(e))  \n",
    "print (\"Log --> \", m.log(n,2)) # Log\n",
    "print (\"Log  --> \", m.log(n,10))# Log\n",
    "print (\"Log 10 --> \", m.log10(ndiez)) # Log 10\n",
    "print (\"Coseno --> \", m.cos(teta))    # cos\n",
    "print (\"Seno --> \", m.sin(teta))    # sin\n",
    "print (\"Tangente --> \", m.tan(teta))    # tan\n",
    "print (\"Raiz cuadrada --> \", m.sqrt(raiz)) #Raiz\n",
    "print (\"Valor techo --> \", m.ceil(vt)) #Valor techo\n",
    "print (\"Valor piso --> \", m.floor(vp)) #Valor piso\n"
   ]
  },
  {
   "cell_type": "code",
   "execution_count": null,
   "metadata": {},
   "outputs": [],
   "source": []
  }
 ],
 "metadata": {
  "kernelspec": {
   "display_name": "Python 3",
   "language": "python",
   "name": "python3"
  },
  "language_info": {
   "codemirror_mode": {
    "name": "ipython",
    "version": 3
   },
   "file_extension": ".py",
   "mimetype": "text/x-python",
   "name": "python",
   "nbconvert_exporter": "python",
   "pygments_lexer": "ipython3",
   "version": "3.8.5"
  }
 },
 "nbformat": 4,
 "nbformat_minor": 4
}
